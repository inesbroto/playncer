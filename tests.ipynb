{
 "cells": [
  {
   "cell_type": "markdown",
   "metadata": {},
   "source": [
    "# General tests"
   ]
  },
  {
   "cell_type": "code",
   "execution_count": null,
   "metadata": {},
   "outputs": [],
   "source": [
    "<tf.Tensor: shape=(1, 1, 17, 3), dtype=float32, numpy=\n",
    "array([[[[0.63281184, 0.49849677, 0.37505552],\n",
    "         [0.5466186 , 0.57336193, 0.37783977],\n",
    "         [0.5535949 , 0.40703616, 0.6381436 ],\n",
    "         [0.5997298 , 0.6592241 , 0.39844656],\n",
    "         [0.5900171 , 0.29559553, 0.5476833 ],\n",
    "         [0.87982106, 0.79328775, 0.33499193],\n",
    "         [0.92426246, 0.24775316, 0.36714965],\n",
    "         [0.97608685, 0.9277704 , 0.03660851],\n",
    "         [0.95819116, 0.01209901, 0.00534357],\n",
    "         [0.86827654, 0.84104306, 0.03206034],\n",
    "         [0.7733701 , 0.33970886, 0.20269062],\n",
    "         [0.991373  , 0.63783777, 0.00995263],\n",
    "         [0.9920549 , 0.25207442, 0.02454685],\n",
    "         [0.9840312 , 0.80950564, 0.03384359],\n",
    "         [0.49617958, 0.25371417, 0.02541354],\n",
    "         [0.9779317 , 0.94460666, 0.02493905],\n",
    "         [0.8553577 , 0.30861178, 0.00438409]]]], dtype=float32)>"
   ]
  },
  {
   "cell_type": "markdown",
   "metadata": {},
   "source": [
    "### Get matrix data"
   ]
  },
  {
   "cell_type": "code",
   "execution_count": null,
   "metadata": {},
   "outputs": [],
   "source": [
    "import tensorflow as tf\n"
   ]
  },
  {
   "cell_type": "code",
   "execution_count": 12,
   "metadata": {},
   "outputs": [],
   "source": [
    "data = [[[[0.63281184, 0.49849677, 0.37505552],\n",
    "         [0.5466186 , 0.57336193, 0.37783977],\n",
    "         [0.5535949 , 0.40703616, 0.6381436 ],\n",
    "         [0.5997298 , 0.6592241 , 0.39844656],\n",
    "         [0.5900171 , 0.29559553, 0.5476833 ],\n",
    "         [0.87982106, 0.79328775, 0.33499193],\n",
    "         [0.92426246, 0.24775316, 0.36714965],\n",
    "         [0.97608685, 0.9277704 , 0.03660851],\n",
    "         [0.95819116, 0.01209901, 0.00534357],\n",
    "         [0.86827654, 0.84104306, 0.03206034],\n",
    "         [0.7733701 , 0.33970886, 0.20269062],\n",
    "         [0.991373  , 0.63783777, 0.00995263],\n",
    "         [0.9920549 , 0.25207442, 0.02454685],\n",
    "         [0.9840312 , 0.80950564, 0.03384359],\n",
    "         [0.49617958, 0.25371417, 0.02541354],\n",
    "         [0.9779317 , 0.94460666, 0.02493905],\n",
    "         [0.8553577 , 0.30861178, 0.00438409]]]]\n",
    "example = tf.constant(data, dtype=tf.float32)\n",
    "\n"
   ]
  },
  {
   "cell_type": "code",
   "execution_count": null,
   "metadata": {},
   "outputs": [],
   "source": [
    "max_x = tf.reduce_max(example[0][0][:,0])\n",
    "max_y = tf.reduce_max(example[0][0][:,1])\n",
    "min_x = tf.reduce_min(example[0][0][:,0])\n",
    "min_y = tf.reduce_min(example[0][0][:,1])"
   ]
  },
  {
   "cell_type": "code",
   "execution_count": 30,
   "metadata": {},
   "outputs": [
    {
     "data": {
      "text/plain": [
       "<tf.Tensor: shape=(17,), dtype=float32, numpy=\n",
       "array([0.37505552, 0.37783977, 0.6381436 , 0.39844656, 0.5476833 ,\n",
       "       0.33499193, 0.36714965, 0.03660851, 0.00534357, 0.03206034,\n",
       "       0.20269062, 0.00995263, 0.02454685, 0.03384359, 0.02541354,\n",
       "       0.02493905, 0.00438409], dtype=float32)>"
      ]
     },
     "execution_count": 30,
     "metadata": {},
     "output_type": "execute_result"
    }
   ],
   "source": [
    "example[0][0][:,2]"
   ]
  },
  {
   "cell_type": "code",
   "execution_count": 48,
   "metadata": {},
   "outputs": [
    {
     "data": {
      "text/plain": [
       "<tf.Tensor: shape=(1, 3), dtype=float32, numpy=array([[0.63281184, 0.49849677, 0.37505552]], dtype=float32)>"
      ]
     },
     "execution_count": 48,
     "metadata": {},
     "output_type": "execute_result"
    }
   ],
   "source": [
    "valid_keypoints[0,:]"
   ]
  },
  {
   "cell_type": "code",
   "execution_count": 50,
   "metadata": {},
   "outputs": [
    {
     "data": {
      "text/plain": [
       "<tf.Tensor: shape=(1, 1, 17, 3), dtype=float32, numpy=\n",
       "array([[[[0.63281184, 0.49849677, 0.37505552],\n",
       "         [0.5466186 , 0.57336193, 0.37783977],\n",
       "         [0.5535949 , 0.40703616, 0.6381436 ],\n",
       "         [0.5997298 , 0.6592241 , 0.39844656],\n",
       "         [0.5900171 , 0.29559553, 0.5476833 ],\n",
       "         [0.87982106, 0.79328775, 0.33499193],\n",
       "         [0.92426246, 0.24775316, 0.36714965],\n",
       "         [0.97608685, 0.9277704 , 0.03660851],\n",
       "         [0.95819116, 0.01209901, 0.00534357],\n",
       "         [0.86827654, 0.84104306, 0.03206034],\n",
       "         [0.7733701 , 0.33970886, 0.20269062],\n",
       "         [0.991373  , 0.63783777, 0.00995263],\n",
       "         [0.9920549 , 0.25207442, 0.02454685],\n",
       "         [0.9840312 , 0.80950564, 0.03384359],\n",
       "         [0.49617958, 0.25371417, 0.02541354],\n",
       "         [0.9779317 , 0.94460666, 0.02493905],\n",
       "         [0.8553577 , 0.30861178, 0.00438409]]]], dtype=float32)>"
      ]
     },
     "execution_count": 50,
     "metadata": {},
     "output_type": "execute_result"
    }
   ],
   "source": [
    "example"
   ]
  },
  {
   "cell_type": "code",
   "execution_count": 53,
   "metadata": {},
   "outputs": [
    {
     "data": {
      "text/plain": [
       "<tf.Tensor: shape=(8,), dtype=float32, numpy=\n",
       "array([0.63281184, 0.5466186 , 0.5535949 , 0.5997298 , 0.5900171 ,\n",
       "       0.87982106, 0.92426246, 0.7733701 ], dtype=float32)>"
      ]
     },
     "execution_count": 53,
     "metadata": {},
     "output_type": "execute_result"
    }
   ],
   "source": [
    "tf.reshape(valid_keypoints, [8,3])[:,0]"
   ]
  },
  {
   "cell_type": "code",
   "execution_count": null,
   "metadata": {},
   "outputs": [
    {
     "name": "stdout",
     "output_type": "stream",
     "text": [
      "(0.5466185808181763, 0.24775315821170807), (0.9242624640464783, 0.7932877540588379)\n",
      "0.2060178\n"
     ]
    }
   ],
   "source": [
    "threshold = 0.2\n",
    "valid_keypoints = tf.reshape(tf.gather(example[0][0], indices=tf.where(example[0][0][:,2]>threshold).numpy(), axis=0), [8,3])\n",
    "max_x = tf.reduce_max(valid_keypoints[:,0])\n",
    "max_y = tf.reduce_max(valid_keypoints[:,1])\n",
    "min_x = tf.reduce_min(valid_keypoints[:,0])\n",
    "min_y = tf.reduce_min(valid_keypoints[:,1])\n",
    "print(f\"({min_x}, {min_y}), ({max_x}, {max_y})\")\n",
    "\n",
    "bb_area = (max_x-min_x)*(max_y-min_y)\n",
    "print(bb_area.numpy())"
   ]
  },
  {
   "cell_type": "code",
   "execution_count": null,
   "metadata": {},
   "outputs": [],
   "source": []
  },
  {
   "cell_type": "code",
   "execution_count": 27,
   "metadata": {},
   "outputs": [
    {
     "data": {
      "text/plain": [
       "<tf.Tensor: shape=(), dtype=float32, numpy=0.94460666>"
      ]
     },
     "execution_count": 27,
     "metadata": {},
     "output_type": "execute_result"
    }
   ],
   "source": [
    "tf.reduce_max(example[0][0][:,1])"
   ]
  },
  {
   "cell_type": "code",
   "execution_count": null,
   "metadata": {},
   "outputs": [],
   "source": [
    "max_x = max()"
   ]
  },
  {
   "cell_type": "code",
   "execution_count": 17,
   "metadata": {},
   "outputs": [
    {
     "data": {
      "text/plain": [
       "<tf.Tensor: shape=(17,), dtype=float32, numpy=\n",
       "array([0.49849677, 0.57336193, 0.40703616, 0.6592241 , 0.29559553,\n",
       "       0.79328775, 0.24775316, 0.9277704 , 0.01209901, 0.84104306,\n",
       "       0.33970886, 0.63783777, 0.25207442, 0.80950564, 0.25371417,\n",
       "       0.94460666, 0.30861178], dtype=float32)>"
      ]
     },
     "execution_count": 17,
     "metadata": {},
     "output_type": "execute_result"
    }
   ],
   "source": [
    "example[0][0][:,1]"
   ]
  },
  {
   "cell_type": "code",
   "execution_count": 16,
   "metadata": {},
   "outputs": [
    {
     "data": {
      "text/plain": [
       "<tf.Tensor: shape=(17,), dtype=float32, numpy=\n",
       "array([0.63281184, 0.5466186 , 0.5535949 , 0.5997298 , 0.5900171 ,\n",
       "       0.87982106, 0.92426246, 0.97608685, 0.95819116, 0.86827654,\n",
       "       0.7733701 , 0.991373  , 0.9920549 , 0.9840312 , 0.49617958,\n",
       "       0.9779317 , 0.8553577 ], dtype=float32)>"
      ]
     },
     "execution_count": 16,
     "metadata": {},
     "output_type": "execute_result"
    }
   ],
   "source": [
    "example[0][0][:,0]"
   ]
  },
  {
   "cell_type": "markdown",
   "metadata": {},
   "source": []
  }
 ],
 "metadata": {
  "kernelspec": {
   "display_name": "NIME_miniproj",
   "language": "python",
   "name": "python3"
  },
  "language_info": {
   "codemirror_mode": {
    "name": "ipython",
    "version": 3
   },
   "file_extension": ".py",
   "mimetype": "text/x-python",
   "name": "python",
   "nbconvert_exporter": "python",
   "pygments_lexer": "ipython3",
   "version": "3.12.4"
  }
 },
 "nbformat": 4,
 "nbformat_minor": 2
}
