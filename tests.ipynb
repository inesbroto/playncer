{
 "cells": [
  {
   "cell_type": "markdown",
   "metadata": {},
   "source": [
    "# General tests"
   ]
  },
  {
   "cell_type": "code",
   "execution_count": null,
   "metadata": {},
   "outputs": [],
   "source": []
  },
  {
   "cell_type": "code",
   "execution_count": null,
   "metadata": {},
   "outputs": [],
   "source": [
    "<tf.Tensor: shape=(1, 1, 17, 3), dtype=float32, numpy=\n",
    "array([[[[0.63281184, 0.49849677, 0.37505552],\n",
    "         [0.5466186 , 0.57336193, 0.37783977],\n",
    "         [0.5535949 , 0.40703616, 0.6381436 ],\n",
    "         [0.5997298 , 0.6592241 , 0.39844656],\n",
    "         [0.5900171 , 0.29559553, 0.5476833 ],\n",
    "         [0.87982106, 0.79328775, 0.33499193],\n",
    "         [0.92426246, 0.24775316, 0.36714965],\n",
    "         [0.97608685, 0.9277704 , 0.03660851],\n",
    "         [0.95819116, 0.01209901, 0.00534357],\n",
    "         [0.86827654, 0.84104306, 0.03206034],\n",
    "         [0.7733701 , 0.33970886, 0.20269062],\n",
    "         [0.991373  , 0.63783777, 0.00995263],\n",
    "         [0.9920549 , 0.25207442, 0.02454685],\n",
    "         [0.9840312 , 0.80950564, 0.03384359],\n",
    "         [0.49617958, 0.25371417, 0.02541354],\n",
    "         [0.9779317 , 0.94460666, 0.02493905],\n",
    "         [0.8553577 , 0.30861178, 0.00438409]]]], dtype=float32)>"
   ]
  },
  {
   "cell_type": "markdown",
   "metadata": {},
   "source": [
    "### Get matrix data"
   ]
  },
  {
   "cell_type": "code",
   "execution_count": 2,
   "metadata": {},
   "outputs": [
    {
     "ename": "ModuleNotFoundError",
     "evalue": "No module named 'tensorflow'",
     "output_type": "error",
     "traceback": [
      "\u001b[0;31m---------------------------------------------------------------------------\u001b[0m",
      "\u001b[0;31mModuleNotFoundError\u001b[0m                       Traceback (most recent call last)",
      "Cell \u001b[0;32mIn[2], line 1\u001b[0m\n\u001b[0;32m----> 1\u001b[0m \u001b[38;5;28;01mimport\u001b[39;00m \u001b[38;5;21;01mtensorflow\u001b[39;00m \u001b[38;5;28;01mas\u001b[39;00m \u001b[38;5;21;01mtf\u001b[39;00m\n",
      "\u001b[0;31mModuleNotFoundError\u001b[0m: No module named 'tensorflow'"
     ]
    }
   ],
   "source": [
    "import tensorflow as tf\n"
   ]
  },
  {
   "cell_type": "markdown",
   "metadata": {},
   "source": []
  }
 ],
 "metadata": {
  "kernelspec": {
   "display_name": "base",
   "language": "python",
   "name": "python3"
  },
  "language_info": {
   "codemirror_mode": {
    "name": "ipython",
    "version": 3
   },
   "file_extension": ".py",
   "mimetype": "text/x-python",
   "name": "python",
   "nbconvert_exporter": "python",
   "pygments_lexer": "ipython3",
   "version": "3.12.4"
  }
 },
 "nbformat": 4,
 "nbformat_minor": 2
}
